{
  "nbformat": 4,
  "nbformat_minor": 0,
  "metadata": {
    "colab": {
      "provenance": []
    },
    "kernelspec": {
      "name": "python3",
      "display_name": "Python 3"
    },
    "language_info": {
      "name": "python"
    }
  },
  "cells": [
    {
      "cell_type": "code",
      "source": [
        "!pip install BitVector"
      ],
      "metadata": {
        "colab": {
          "base_uri": "https://localhost:8080/"
        },
        "id": "GECDwz65RVv2",
        "outputId": "b067a1b7-7523-499a-b8d6-462e6ddeb74b"
      },
      "execution_count": 2,
      "outputs": [
        {
          "output_type": "stream",
          "name": "stdout",
          "text": [
            "Collecting BitVector\n",
            "  Downloading BitVector-3.5.0.tar.gz (161 kB)\n",
            "\u001b[?25l     \u001b[90m━━━━━━━━━━━━━━━━━━━━━━━━━━━━━━━━━━━━━━━━\u001b[0m \u001b[32m0.0/161.7 kB\u001b[0m \u001b[31m?\u001b[0m eta \u001b[36m-:--:--\u001b[0m\r\u001b[2K     \u001b[91m━━━━━━━━━━━━━━━━━━━━━━━━━━━━━━━━\u001b[0m\u001b[91m╸\u001b[0m\u001b[90m━━━━━━━\u001b[0m \u001b[32m133.1/161.7 kB\u001b[0m \u001b[31m3.7 MB/s\u001b[0m eta \u001b[36m0:00:01\u001b[0m\r\u001b[2K     \u001b[90m━━━━━━━━━━━━━━━━━━━━━━━━━━━━━━━━━━━━━━━━\u001b[0m \u001b[32m161.7/161.7 kB\u001b[0m \u001b[31m3.7 MB/s\u001b[0m eta \u001b[36m0:00:00\u001b[0m\n",
            "\u001b[?25h  Preparing metadata (setup.py) ... \u001b[?25l\u001b[?25hdone\n",
            "Building wheels for collected packages: BitVector\n",
            "  Building wheel for BitVector (setup.py) ... \u001b[?25l\u001b[?25hdone\n",
            "  Created wheel for BitVector: filename=BitVector-3.5.0-py3-none-any.whl size=43506 sha256=122cfbd6029a483e1391c270e989f715184640deeb6e40b8d78b4098d817eb9c\n",
            "  Stored in directory: /root/.cache/pip/wheels/cf/1c/82/cb7647c0f5c92b232dcc7e775de20c3fb649f693e7607118d3\n",
            "Successfully built BitVector\n",
            "Installing collected packages: BitVector\n",
            "Successfully installed BitVector-3.5.0\n"
          ]
        }
      ]
    },
    {
      "cell_type": "code",
      "source": [
        "from itertools import chain\n",
        "from BitVector import *\n",
        "from tqdm import tqdm"
      ],
      "metadata": {
        "id": "wHDAWxAETms0"
      },
      "execution_count": 5,
      "outputs": []
    },
    {
      "cell_type": "markdown",
      "source": [
        "# Create the Vocabulary"
      ],
      "metadata": {
        "id": "MaioSrsfT1cn"
      }
    },
    {
      "cell_type": "code",
      "execution_count": 6,
      "metadata": {
        "id": "w1VgcOI7QuyD"
      },
      "outputs": [],
      "source": [
        "mark_twain_quotes = [\"If you tell the truth, you don’t have to remember anything\",\n",
        "\"The man who does not read has no advantage over the man who cannot read\",\n",
        "\"Whenever you find yourself on the side of the majority, it is time to reform or pause and reflect\",\n",
        "\"Never argue with stupid people, they will drag you down to their level and then beat you with experience\",\n",
        "\"The two most important days in your life are the day you are born and the day you find out why\",\n",
        "\"Kindness is the language which the deaf can hear and the blind can see\",\n",
        "\"Continuous improvement is better than delayed perfection\",\n",
        "\"Don’t go around saying the world owes you a living. The world owes you nothing. It was here first\",\n",
        "\"In a good bookroom you feel in some mysterious way that you are absorbing the wisdom contained in all the books through your skin, without even opening them\",\n",
        "\"I have never let my schooling interfere with my education\"]\n",
        "\n",
        "vocab = [quote.split(' ') for quote in mark_twain_quotes]\n",
        "vocab = set(chain(*vocab))\n",
        "vocab.remove('a')\n",
        "vocab.remove('I')"
      ]
    },
    {
      "cell_type": "code",
      "source": [
        "vocab"
      ],
      "metadata": {
        "colab": {
          "base_uri": "https://localhost:8080/"
        },
        "id": "cQl7Vc5uUbJj",
        "outputId": "95d2e7ad-b353-4e7d-8d18-1c5853cc6f5f"
      },
      "execution_count": 7,
      "outputs": [
        {
          "output_type": "execute_result",
          "data": {
            "text/plain": [
              "{'Continuous',\n",
              " 'Don’t',\n",
              " 'If',\n",
              " 'In',\n",
              " 'It',\n",
              " 'Kindness',\n",
              " 'Never',\n",
              " 'The',\n",
              " 'Whenever',\n",
              " 'absorbing',\n",
              " 'advantage',\n",
              " 'all',\n",
              " 'and',\n",
              " 'anything',\n",
              " 'are',\n",
              " 'argue',\n",
              " 'around',\n",
              " 'beat',\n",
              " 'better',\n",
              " 'blind',\n",
              " 'bookroom',\n",
              " 'books',\n",
              " 'born',\n",
              " 'can',\n",
              " 'cannot',\n",
              " 'contained',\n",
              " 'day',\n",
              " 'days',\n",
              " 'deaf',\n",
              " 'delayed',\n",
              " 'does',\n",
              " 'don’t',\n",
              " 'down',\n",
              " 'drag',\n",
              " 'education',\n",
              " 'even',\n",
              " 'experience',\n",
              " 'feel',\n",
              " 'find',\n",
              " 'first',\n",
              " 'go',\n",
              " 'good',\n",
              " 'has',\n",
              " 'have',\n",
              " 'hear',\n",
              " 'here',\n",
              " 'important',\n",
              " 'improvement',\n",
              " 'in',\n",
              " 'interfere',\n",
              " 'is',\n",
              " 'it',\n",
              " 'language',\n",
              " 'let',\n",
              " 'level',\n",
              " 'life',\n",
              " 'living.',\n",
              " 'majority,',\n",
              " 'man',\n",
              " 'most',\n",
              " 'my',\n",
              " 'mysterious',\n",
              " 'never',\n",
              " 'no',\n",
              " 'not',\n",
              " 'nothing.',\n",
              " 'of',\n",
              " 'on',\n",
              " 'opening',\n",
              " 'or',\n",
              " 'out',\n",
              " 'over',\n",
              " 'owes',\n",
              " 'pause',\n",
              " 'people,',\n",
              " 'perfection',\n",
              " 'read',\n",
              " 'reflect',\n",
              " 'reform',\n",
              " 'remember',\n",
              " 'saying',\n",
              " 'schooling',\n",
              " 'see',\n",
              " 'side',\n",
              " 'skin,',\n",
              " 'some',\n",
              " 'stupid',\n",
              " 'tell',\n",
              " 'than',\n",
              " 'that',\n",
              " 'the',\n",
              " 'their',\n",
              " 'them',\n",
              " 'then',\n",
              " 'they',\n",
              " 'through',\n",
              " 'time',\n",
              " 'to',\n",
              " 'truth,',\n",
              " 'two',\n",
              " 'was',\n",
              " 'way',\n",
              " 'which',\n",
              " 'who',\n",
              " 'why',\n",
              " 'will',\n",
              " 'wisdom',\n",
              " 'with',\n",
              " 'without',\n",
              " 'world',\n",
              " 'you',\n",
              " 'your',\n",
              " 'yourself'}"
            ]
          },
          "metadata": {},
          "execution_count": 7
        }
      ]
    },
    {
      "cell_type": "code",
      "source": [
        "PassPhrase = \"Hopes and dreams of a million years\"\n",
        "\n",
        "BLOCKSIZE = 16\n",
        "numbytes = BLOCKSIZE // 8\n",
        "\n",
        "# Reduce the passphrase to a bit array of size BLOCKSIZE:\n",
        "bv_iv = BitVector(bitlist = [0]*BLOCKSIZE)\n",
        "for i in range(0,len(PassPhrase) // numbytes):\n",
        "    textstr = PassPhrase[i*numbytes:(i+1)*numbytes]\n",
        "    bv_iv ^= BitVector( textstring = textstr )\n",
        "\n",
        "# Create a bitvector from the ciphertext hex string:\n",
        "FILEIN = open(\"cipher.txt\")\n",
        "encrypted_bv = BitVector( hexstring = FILEIN.read() )\n",
        "print(\"input cipher: \", encrypted_bv.get_hex_string_from_bitvector())"
      ],
      "metadata": {
        "colab": {
          "base_uri": "https://localhost:8080/"
        },
        "id": "Vbtiu-pORdfC",
        "outputId": "50830be3-d55b-4a1f-b044-36d488ff4b6a"
      },
      "execution_count": 8,
      "outputs": [
        {
          "output_type": "stream",
          "name": "stdout",
          "text": [
            "input cipher:  20352a7e36703a6930767f7276397e376528632d6b6665656f6f6424623c2d30272f3c2d3d2172396933742c7e233f687d2e32083c11385a03460d440c25\n"
          ]
        }
      ]
    },
    {
      "cell_type": "code",
      "source": [
        "def decrypt(key_bv):\n",
        "    # Create a bitvector for storing the decrypted plaintext bit array:\n",
        "    msg_decrypted_bv = BitVector( size = 0 )\n",
        "\n",
        "    # Carry out differential XORing of bit blocks and decryption:\n",
        "    previous_decrypted_block = bv_iv\n",
        "    for i in range(0, len(encrypted_bv) // BLOCKSIZE):\n",
        "        bv = encrypted_bv[i*BLOCKSIZE:(i+1)*BLOCKSIZE]\n",
        "        temp = bv.deep_copy()\n",
        "        bv ^=  previous_decrypted_block\n",
        "        previous_decrypted_block = temp\n",
        "        bv ^=  key_bv\n",
        "        msg_decrypted_bv += bv\n",
        "\n",
        "    # Extract plaintext from the decrypted bitvector:\n",
        "    outputtext = msg_decrypted_bv.get_text_from_bitvector()\n",
        "\n",
        "    return outputtext"
      ],
      "metadata": {
        "id": "zw_hpqsfUo2d"
      },
      "execution_count": 9,
      "outputs": []
    },
    {
      "cell_type": "code",
      "source": [
        "KEYSIZE = 2**16\n",
        "\n",
        "result = \"\"\n",
        "result_key = None\n",
        "\n",
        "for key in tqdm(range(2**14, KEYSIZE)): # for all possible keys\n",
        "    # Reduce the key to a bit array of size BLOCKSIZE:\n",
        "    key_bv = BitVector(intVal = key, size = BLOCKSIZE)\n",
        "\n",
        "    output = decrypt(key_bv)\n",
        "    output_set = set(output.split(' '))\n",
        "\n",
        "    intersection = output_set.intersection(vocab)\n",
        "\n",
        "    if len(intersection) > 0:\n",
        "      print(\"Found intersection: \", intersection)\n",
        "      result = output\n",
        "      result_key = key\n",
        "      break\n",
        "\n",
        "print(\"possible quote: \", result)\n",
        "print(\"used key is : \", result_key)"
      ],
      "metadata": {
        "colab": {
          "base_uri": "https://localhost:8080/"
        },
        "id": "IAR94AJvVL2y",
        "outputId": "06bd4b66-7ca0-4b3a-88c8-2b3f8876469e"
      },
      "execution_count": 12,
      "outputs": [
        {
          "output_type": "stream",
          "name": "stderr",
          "text": [
            " 25%|██▍       | 12139/49152 [03:16<09:58, 61.80it/s]"
          ]
        },
        {
          "output_type": "stream",
          "name": "stdout",
          "text": [
            "Found intersection:  {'of', 'The', 'is'}\n",
            "possible quote:  The secret of getting ahead is getting started. -- Mark Twain\n",
            "\n",
            "used key is :  28523\n"
          ]
        },
        {
          "output_type": "stream",
          "name": "stderr",
          "text": [
            "\n"
          ]
        }
      ]
    },
    {
      "cell_type": "code",
      "source": [],
      "metadata": {
        "id": "dzD99TxzYrvF"
      },
      "execution_count": null,
      "outputs": []
    }
  ]
}